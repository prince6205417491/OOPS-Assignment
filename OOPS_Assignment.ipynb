{
  "nbformat": 4,
  "nbformat_minor": 0,
  "metadata": {
    "colab": {
      "provenance": []
    },
    "kernelspec": {
      "name": "python3",
      "display_name": "Python 3"
    },
    "language_info": {
      "name": "python"
    }
  },
  "cells": [
    {
      "cell_type": "markdown",
      "source": [
        "# **Python OOPs Questions**"
      ],
      "metadata": {
        "id": "4HeEEUHVanYP"
      }
    },
    {
      "cell_type": "markdown",
      "source": [
        "**Q1.What is Object-Oriented Programming (OOP)?**\n",
        "\n",
        "Ans:-Object-Oriented Programming (OOP) is a programming paradigm based on the concept of \"objects\", which can contain data and code that manipulates that data."
      ],
      "metadata": {
        "id": "bDYVNjJHa2Xv"
      }
    },
    {
      "cell_type": "markdown",
      "source": [
        "**Q2.What is a class in OOP?**\n",
        "\n",
        "Ans:-Object-Oriented Programming (OOP), a class is a blueprint or template for creating objects."
      ],
      "metadata": {
        "id": "6rdi8Q6xbTQD"
      }
    },
    {
      "cell_type": "markdown",
      "source": [
        "**Q3. What is an object in OOP?**\n",
        "\n",
        "Ans:-Object-Oriented Programming (OOP), an object is a fundamental unit that combines data and behavior."
      ],
      "metadata": {
        "id": "0_INIjXCbplC"
      }
    },
    {
      "cell_type": "markdown",
      "source": [
        "**Q4.What is the difference between abstraction and encapsulation?**\n",
        "\n",
        "Ans:-Abstraction and encapsulation are two fundamental concepts in Object-Oriented Programming (OOP), and while they are closely related, they serve different purposes."
      ],
      "metadata": {
        "id": "vgIDIDc1cF_e"
      }
    },
    {
      "cell_type": "markdown",
      "source": [
        "**Q5.What are dunder methods in Python?**\n",
        "\n",
        "Ans:-Dunder methods (short for double underscore methods) are special methods in Python that begin and end with double underscores, like __init__, __str__, or __add__."
      ],
      "metadata": {
        "id": "Fat5HfZdciwP"
      }
    },
    {
      "cell_type": "markdown",
      "source": [
        "**Q6.Explain the concept of inheritance in OOP?**\n",
        "\n",
        "Ans:-Inheritance is an OOP concept where a class (child/subclass) can inherit attributes and methods from another class (parent/superclass)"
      ],
      "metadata": {
        "id": "nnGVn4_kdXt9"
      }
    },
    {
      "cell_type": "markdown",
      "source": [
        "**Q7.What is polymorphism in OOP?**\n",
        "\n",
        "Ans:-Polymorphism in Object-Oriented Programming (OOP) refers to the ability of different objects to respond to the same method or operation in their own unique way.\n",
        "\n",
        "*   List item\n",
        "*   List item\n",
        "\n"
      ],
      "metadata": {
        "id": "ra2C7jXodxal"
      }
    },
    {
      "cell_type": "markdown",
      "source": [
        "**Q8.How is encapsulation achieved in Python?**\n",
        "\n",
        "Ans:-Encapsulation in Python is achieved by restricting access to certain parts of an object (like attributes and methods), and bundling data and behavior together inside a class."
      ],
      "metadata": {
        "id": "p5jrCzAYeWqI"
      }
    },
    {
      "cell_type": "markdown",
      "source": [
        "**Q9.What is a constructor in Python?**\n",
        "\n",
        "Ans:-A constructor in Python is a special method named __init__() that is automatically called when you create a new object from a class."
      ],
      "metadata": {
        "id": "sZfGoW05e4Pw"
      }
    },
    {
      "cell_type": "markdown",
      "source": [
        "**Q10.What are class and static methods in Python?**\n",
        "\n",
        "Ans:-A class method in Python is a method that is bound to the class and not the instance of the class."
      ],
      "metadata": {
        "id": "TIxxPlzpfjaC"
      }
    },
    {
      "cell_type": "markdown",
      "source": [
        "**Q11.What is method overloading in Python?**\n",
        "\n",
        "Ans:-Method overloading is a concept where multiple methods have the same name but different parameters (different number or types of arguments) within the same class."
      ],
      "metadata": {
        "id": "0gC--LIcgBfE"
      }
    },
    {
      "cell_type": "markdown",
      "source": [
        "**Q12. What is method overriding in OOP?**\n",
        "\n",
        "Ans:-Method overriding is a feature in Object-Oriented Programming where a child (subclass) provides its own implementation of a method that is already defined in its parent (superclass)."
      ],
      "metadata": {
        "id": "blQXtYOKgOiM"
      }
    },
    {
      "cell_type": "markdown",
      "source": [
        "**Q13.What is a property decorator in Python?**\n",
        "\n",
        "Ans:-The @property decorator allows you to define a method in a class that you can access like an attribute."
      ],
      "metadata": {
        "id": "74wTBl62hDEz"
      }
    },
    {
      "cell_type": "markdown",
      "source": [
        "**Q14.Why is polymorphism important in OOP?**\n",
        "\n",
        "Ans:-Polymorphism is used in OOP to allow developers to write more efficient code and redefine methods for derived classes; however, it could raise real-time performance issues."
      ],
      "metadata": {
        "id": "H70H8_a3hXE_"
      }
    },
    {
      "cell_type": "markdown",
      "source": [
        "**Q15.What is an abstract class in Python?**\n",
        "\n",
        "Ans:-An abstract class is a class that cannot be instantiated directly and is meant to be a base class for other classes. It can define abstract methods that must be implemented by any subclass."
      ],
      "metadata": {
        "id": "PRdRzzz_hxxO"
      }
    },
    {
      "cell_type": "markdown",
      "source": [
        "**Q16.What are the advantages of OOP?**\n",
        "\n",
        "Ans:-**Advantages of Object-Oriented Programming (OOP):**\n",
        "\n",
        "**1.Modularity**:-Code is organized into discrete objects/classes, making it easier to manage, understand, and debug.\n",
        "**2.Reusability**:-Classes and objects can be reused across programs, reducing redundancy and speeding up development.\n",
        "**3.Scalability and Maintainability**:-OOP makes it easier to maintain and extend software by adding new objects or modifying existing ones without affecting other parts.\n",
        "**4.Encapsulation**:-Data and methods are bundled together, protecting the internal state and preventing unintended interference.\n",
        "**5.Inheritance**:-Allows new classes to inherit properties and behavior from existing classes, promoting code reuse and hierarchical classification.\n",
        "**6.Polymorphism**:-Enables objects of different classes to be treated as objects of a common superclass, allowing flexible and dynamic method invocation.\n",
        "**7.Improved Productivity**:-The clear structure and reusable components speed up development and reduce errors."
      ],
      "metadata": {
        "id": "MbxdSohhiSHe"
      }
    },
    {
      "cell_type": "markdown",
      "source": [
        "**Q17.What is the difference between a class variable and an instance variable?**\n",
        "\n",
        "Ans:-**Class Variable**:-\n",
        "1.Belongs to the class itself, shared by all instances.\n",
        "2.There is only one copy of the variable, shared across all objects of the class.\n",
        "3.Used for attributes that should be common to all instances\n",
        "\n",
        "**Instance Variable**:-\n",
        "1.Belongs to each individual object (instance).\n",
        "2.Each object has its own separate copy.\n",
        "3.Used for attributes that are unique to each instance."
      ],
      "metadata": {
        "id": "iS2eHTrijerg"
      }
    },
    {
      "cell_type": "markdown",
      "source": [
        "**Q18.What is multiple inheritance in Python?**\n",
        "\n",
        "Ans:-Multiple inheritance is a feature where a class can inherit attributes and methods from more than one parent class."
      ],
      "metadata": {
        "id": "GUtmQb4hkm_G"
      }
    },
    {
      "cell_type": "markdown",
      "source": [
        "**Q19. Explain the purpose of ‘’__str__’ and ‘__repr__’ ‘ methods in Python.**\n",
        "\n",
        "Ans:-The purpose of __str__ and __repr__ methods in Python:-\n",
        "\n",
        "**__str__ method**\n",
        "\n",
        "1.Provides a “nice” or user-friendly string representation of an object.\n",
        "2.Used by the print() function and str() built-in.\n",
        "3.Meant for end-users or informal display.\n",
        "\n",
        "**__repr__ method**\n",
        "\n",
        "1.Provides an “official” string representation of an object.\n",
        "2.Used by the interactive interpreter and repr() built-in.\n",
        "3.Should ideally be a string that could be used to recreate the object, or at least give detailed info for developers."
      ],
      "metadata": {
        "id": "KZbR5VwFk2GV"
      }
    },
    {
      "cell_type": "markdown",
      "source": [
        "**Q20.What is the significance of the ‘super()’ function in Python?**\n",
        "\n",
        "Ans:-The super() function is used to call a method from a parent (super) class in a subclass. It allows you to access and extend the behavior of the parent class without explicitly naming it."
      ],
      "metadata": {
        "id": "S61YptUPmJRa"
      }
    },
    {
      "cell_type": "markdown",
      "source": [
        "**Q21.What is the significance of the __del__ method in Python?**\n",
        "\n",
        "Ans:-The __del__ method is a destructor method in Python. It is called when an object is about to be destroyed—typically when its reference count reaches zero and the garbage collector is about to reclaim its memory.\n",
        "\n"
      ],
      "metadata": {
        "id": "EYK6Qt3omYJy"
      }
    },
    {
      "cell_type": "markdown",
      "source": [
        "**Q22.What is the difference between @staticmethod and @classmethod in Python?**\n",
        "\n",
        "Ans:-@**staticmethod**\n",
        "1.A method that does not receive any implicit first argument (neither self nor cls).\n",
        "2.Behaves like a regular function but belongs to the class’s namespace.\n",
        "3.Cannot access or modify the class state or instance state.\n",
        "4.Used for utility functions related to the class but independent of class/instance data.\n",
        "\n",
        "**@classmethod**\n",
        "1.A method that receives the class itself as the first argument, usually named cls.\n",
        "2.Can access and modify class-level attributes.\n",
        "3.Often used as factory methods or to change class state."
      ],
      "metadata": {
        "id": "iQHu7Q98mmw5"
      }
    },
    {
      "cell_type": "markdown",
      "source": [
        "**Q23.How does polymorphism work in Python with inheritance?**\n",
        "\n",
        "Ans:-Polymorphism is a fundamental concept in object-oriented programming (OOP) that allows methods, functions, or operators to operate on different types of objects."
      ],
      "metadata": {
        "id": "CZgqWWNDndox"
      }
    },
    {
      "cell_type": "markdown",
      "source": [
        "**Q24. What is method chaining in Python OOP?**\n",
        "\n",
        "Ans:-Method chaining is a technique where multiple method calls are linked together in a single statement, one after another."
      ],
      "metadata": {
        "id": "hHqQ_MFqoR0s"
      }
    },
    {
      "cell_type": "markdown",
      "source": [
        "**Q25.What is the purpose of the __call__ method in Python?**\n",
        "\n",
        "Ans:-The __call__ method in Python is a special or \"magic\" method that allows an instance of a class to be called as if it were a function. This makes the object itself callable, enabling you to define custom behavior when the object is \"called.\""
      ],
      "metadata": {
        "id": "TrkMIfMzouJf"
      }
    },
    {
      "cell_type": "markdown",
      "source": [
        "# **Practical Questions**"
      ],
      "metadata": {
        "id": "oWTXaX6epHx9"
      }
    },
    {
      "cell_type": "markdown",
      "source": [
        "**Q1. Create a parent class Animal with a method speak() that prints a generic message**.** Create a child class Dog **\n",
        "**that overrides the speak() method to print \"Bark!\".**"
      ],
      "metadata": {
        "id": "7L3tzXIxpZy5"
      }
    },
    {
      "cell_type": "code",
      "source": [
        "# Parent class\n",
        "class Animal:\n",
        "    def speak(self):\n",
        "        print(\"The animal makes a sound.\")\n",
        "\n",
        "# Child class\n",
        "class Dog(Animal):\n",
        "    def speak(self):\n",
        "        print(\"Bark!\")\n",
        "\n",
        "# Testing\n",
        "a = Animal()\n",
        "a.speak()\n",
        "\n",
        "d = Dog()\n",
        "d.speak()\n"
      ],
      "metadata": {
        "colab": {
          "base_uri": "https://localhost:8080/"
        },
        "id": "QF8rFfo9ps2I",
        "outputId": "711b96b6-38e9-4a37-dba9-0f0536a78141"
      },
      "execution_count": null,
      "outputs": [
        {
          "output_type": "stream",
          "name": "stdout",
          "text": [
            "The animal makes a sound.\n",
            "Bark!\n"
          ]
        }
      ]
    },
    {
      "cell_type": "markdown",
      "source": [
        "**Q2. Write a program to create an abstract class Shape with a method area(). Derive classes Circle and Rectangle**\n",
        "**from it and implement the area() method in both.**"
      ],
      "metadata": {
        "id": "iABLNrDlp7aj"
      }
    },
    {
      "cell_type": "code",
      "source": [
        "from abc import ABC, abstractmethod\n",
        "import math\n",
        "\n",
        "# Abstract base class\n",
        "class Shape(ABC):\n",
        "    @abstractmethod\n",
        "    def area(self):\n",
        "        pass  # Abstract method, must be implemented in subclasses\n",
        "\n",
        "# Derived class: Circle\n",
        "class Circle(Shape):\n",
        "    def __init__(self, radius):\n",
        "        self.radius = radius\n",
        "\n",
        "    def area(self):\n",
        "        return math.pi * self.radius ** 2\n",
        "\n",
        "# Derived class: Rectangle\n",
        "class Rectangle(Shape):\n",
        "    def __init__(self, width, height):\n",
        "        self.width = width\n",
        "        self.height = height\n",
        "\n",
        "    def area(self):\n",
        "        return self.width * self.height\n",
        "\n",
        "# Test the classes\n",
        "circle = Circle(5)\n",
        "rectangle = Rectangle(4, 6)\n",
        "\n",
        "print(f\"Circle area: {circle.area():.2f}\")\n",
        "print(f\"Rectangle area: {rectangle.area()}\")\n"
      ],
      "metadata": {
        "colab": {
          "base_uri": "https://localhost:8080/"
        },
        "id": "q9B7Xru4qHhy",
        "outputId": "1f8424f0-5686-4cb9-bce2-4f4aa954461e"
      },
      "execution_count": null,
      "outputs": [
        {
          "output_type": "stream",
          "name": "stdout",
          "text": [
            "Circle area: 78.54\n",
            "Rectangle area: 24\n"
          ]
        }
      ]
    },
    {
      "cell_type": "markdown",
      "source": [
        "**Q3.Implement a multi-level inheritance scenario where a class Vehicle has an attribute type. Derive a class Car**\n",
        "**and further derive a class ElectricCar that adds a battery attribute.**"
      ],
      "metadata": {
        "id": "8Qm9t4KKqVbR"
      }
    },
    {
      "cell_type": "code",
      "source": [
        "# Base class\n",
        "class Vehicle:\n",
        "    def __init__(self, vehicle_type):\n",
        "        self.vehicle_type = vehicle_type\n",
        "\n",
        "    def display_type(self):\n",
        "        print(f\"Vehicle Type: {self.vehicle_type}\")\n",
        "\n",
        "# Derived class from Vehicle\n",
        "class Car(Vehicle):\n",
        "    def __init__(self, vehicle_type, brand):\n",
        "        super().__init__(vehicle_type)\n",
        "        self.brand = brand\n",
        "\n",
        "    def display_brand(self):\n",
        "        print(f\"Car Brand: {self.brand}\")\n",
        "\n",
        "# Further derived class from Car\n",
        "class ElectricCar(Car):\n",
        "    def __init__(self, vehicle_type, brand, battery_capacity):\n",
        "        super().__init__(vehicle_type, brand)\n",
        "        self.battery_capacity = battery_capacity\n",
        "\n",
        "    def display_battery(self):\n",
        "        print(f\"Battery Capacity: {self.battery_capacity} kWh\")\n",
        "\n",
        "# Testing the multi-level inheritance\n",
        "e_car = ElectricCar(\"Four Wheeler\", \"Tesla\", 75)\n",
        "\n",
        "e_car.display_type()\n",
        "e_car.display_brand()\n",
        "e_car.display_battery()"
      ],
      "metadata": {
        "colab": {
          "base_uri": "https://localhost:8080/"
        },
        "id": "cZWHW1WRqd5p",
        "outputId": "641b1609-8ae2-4b25-db0e-82eef9b6fd87"
      },
      "execution_count": null,
      "outputs": [
        {
          "output_type": "stream",
          "name": "stdout",
          "text": [
            "Vehicle Type: Four Wheeler\n",
            "Car Brand: Tesla\n",
            "Battery Capacity: 75 kWh\n"
          ]
        }
      ]
    },
    {
      "cell_type": "markdown",
      "source": [
        "**Q4.Demonstrate polymorphism by creating a base class Bird with a method fly()**. **Create two derived classes **\n",
        "**Sparrow and Penguin that override the fly() method.**"
      ],
      "metadata": {
        "id": "kscQz2EOqlZa"
      }
    },
    {
      "cell_type": "code",
      "source": [
        "# Base class\n",
        "class Bird:\n",
        "    def fly(self):\n",
        "        print(\"Some birds can fly.\")\n",
        "\n",
        "# Derived class 1\n",
        "class Sparrow(Bird):\n",
        "    def fly(self):\n",
        "        print(\"Sparrow flies high in the sky!\")\n",
        "\n",
        "# Derived class 2\n",
        "class Penguin(Bird):\n",
        "    def fly(self):\n",
        "        print(\"Penguins cannot fly, but they swim well!\")\n",
        "\n",
        "# Function to demonstrate polymorphism\n",
        "def make_bird_fly(bird):\n",
        "    bird.fly()  # Calls the appropriate fly() method based on object type\n",
        "\n",
        "# Testing\n",
        "birds = [Sparrow(), Penguin()]\n",
        "\n",
        "for b in birds:\n",
        "    make_bird_fly(b)\n"
      ],
      "metadata": {
        "colab": {
          "base_uri": "https://localhost:8080/"
        },
        "id": "k40RN6larUxW",
        "outputId": "e4309a5c-e889-47c5-d2e8-935537006c5a"
      },
      "execution_count": null,
      "outputs": [
        {
          "output_type": "stream",
          "name": "stdout",
          "text": [
            "Sparrow flies high in the sky!\n",
            "Penguins cannot fly, but they swim well!\n"
          ]
        }
      ]
    },
    {
      "cell_type": "markdown",
      "source": [
        "**Q5. Write a program to demonstrate encapsulation by creating a class BankAccount with private attributes **\n",
        "**balance and methods to deposit, withdraw, and check balance.**"
      ],
      "metadata": {
        "id": "SZSXMkzmrZZF"
      }
    },
    {
      "cell_type": "code",
      "source": [
        "class BankAccount:\n",
        "    def __init__(self, initial_balance=0):\n",
        "        self.__balance = initial_balance  # Private attribute\n",
        "\n",
        "    def deposit(self, amount):\n",
        "        if amount > 0:\n",
        "            self.__balance += amount\n",
        "            print(f\"Deposited: ${amount}\")\n",
        "        else:\n",
        "            print(\"Deposit amount must be positive.\")\n",
        "\n",
        "    def withdraw(self, amount):\n",
        "        if amount <= self.__balance:\n",
        "            self.__balance -= amount\n",
        "            print(f\"Withdrew: ${amount}\")\n",
        "        else:\n",
        "            print(\"Insufficient balance.\")\n",
        "\n",
        "    def check_balance(self):\n",
        "        print(f\"Current Balance: ${self.__balance}\")\n",
        "\n",
        "# Testing the class\n",
        "account = BankAccount(100)\n",
        "account.check_balance()\n",
        "account.deposit(50)\n",
        "account.withdraw(30)\n",
        "account.check_balance()\n"
      ],
      "metadata": {
        "colab": {
          "base_uri": "https://localhost:8080/"
        },
        "id": "QjJvRtCErhRV",
        "outputId": "31802ae3-3f4a-4717-a2a2-42ad51e4032d"
      },
      "execution_count": null,
      "outputs": [
        {
          "output_type": "stream",
          "name": "stdout",
          "text": [
            "Current Balance: $100\n",
            "Deposited: $50\n",
            "Withdrew: $30\n",
            "Current Balance: $120\n"
          ]
        }
      ]
    },
    {
      "cell_type": "markdown",
      "source": [
        "**Q6.Demonstrate runtime polymorphism using a method play() in a base class Instrument**.** Derive classes Guitar**\n",
        "**and Piano that implement their own version of play()**"
      ],
      "metadata": {
        "id": "nu3Qu9IUrySc"
      }
    },
    {
      "cell_type": "code",
      "source": [
        "# Base class\n",
        "class Instrument:\n",
        "    def play(self):\n",
        "        print(\"An instrument is playing music.\")\n",
        "\n",
        "# Derived class 1\n",
        "class Guitar(Instrument):\n",
        "    def play(self):\n",
        "        print(\"Strumming the guitar... 🎸\")\n",
        "\n",
        "# Derived class 2\n",
        "class Piano(Instrument):\n",
        "    def play(self):\n",
        "        print(\"Playing the piano... 🎹\")\n",
        "\n",
        "# Function to demonstrate runtime polymorphism\n",
        "def start_playing(instrument):\n",
        "    instrument.play()  # Calls the appropriate method based on the actual object\n",
        "\n",
        "# Testing\n",
        "instruments = [Guitar(), Piano()]\n",
        "\n",
        "for inst in instruments:\n",
        "    start_playing(inst)\n"
      ],
      "metadata": {
        "colab": {
          "base_uri": "https://localhost:8080/"
        },
        "id": "wPJAOytAr99G",
        "outputId": "62d6131a-4c4d-4fa7-e54b-27dd462ab3bb"
      },
      "execution_count": null,
      "outputs": [
        {
          "output_type": "stream",
          "name": "stdout",
          "text": [
            "Strumming the guitar... 🎸\n",
            "Playing the piano... 🎹\n"
          ]
        }
      ]
    },
    {
      "cell_type": "markdown",
      "source": [
        "**Q7.Create a class MathOperations with a class method add_numbers() to add two numbers and a static**\n",
        "**method subtract_numbers() to subtract two numbers**."
      ],
      "metadata": {
        "id": "LJii16-osRN8"
      }
    },
    {
      "cell_type": "code",
      "source": [
        "class MathOperations:\n",
        "    @classmethod\n",
        "    def add_numbers(cls, a, b):\n",
        "        return a + b\n",
        "\n",
        "    @staticmethod\n",
        "    def subtract_numbers(a, b):\n",
        "        return a - b\n",
        "\n",
        "# Testing the methods\n",
        "print(\"Addition:\", MathOperations.add_numbers(10, 5))\n",
        "print(\"Subtraction:\", MathOperations.subtract_numbers(10, 5))\n"
      ],
      "metadata": {
        "colab": {
          "base_uri": "https://localhost:8080/"
        },
        "id": "ZKhpoFrWsYgt",
        "outputId": "dcf6967a-68fe-40d8-f406-0e066c52ae39"
      },
      "execution_count": null,
      "outputs": [
        {
          "output_type": "stream",
          "name": "stdout",
          "text": [
            "Addition: 15\n",
            "Subtraction: 5\n"
          ]
        }
      ]
    },
    {
      "cell_type": "markdown",
      "source": [
        "**Q8. Implement a class Person with a class method to count the total number of persons created.**"
      ],
      "metadata": {
        "id": "6qj5bmYWslN5"
      }
    },
    {
      "cell_type": "code",
      "source": [
        "class Person:\n",
        "    count = 0  # Class variable to track number of instances\n",
        "\n",
        "    def __init__(self, name):\n",
        "        self.name = name\n",
        "        Person.count += 1  # Increment count whenever a new object is created\n",
        "\n",
        "    @classmethod\n",
        "    def total_persons(cls):\n",
        "        return cls.count\n",
        "\n",
        "# Creating Person instances\n",
        "p1 = Person(\"Alice\")\n",
        "p2 = Person(\"Bob\")\n",
        "p3 = Person(\"Charlie\")\n",
        "\n",
        "# Checking total number of persons created\n",
        "print(\"Total persons created:\", Person.total_persons())  # Output: 3\n",
        "\n"
      ],
      "metadata": {
        "colab": {
          "base_uri": "https://localhost:8080/"
        },
        "id": "wAum2OnxsvzZ",
        "outputId": "831369d0-f84a-47cd-dd05-a1741e5d71ba"
      },
      "execution_count": null,
      "outputs": [
        {
          "output_type": "stream",
          "name": "stdout",
          "text": [
            "Total persons created: 3\n"
          ]
        }
      ]
    },
    {
      "cell_type": "markdown",
      "source": [
        "**Q9. Write a class Fraction with attributes numerator and denominator**. **Override the str method to display the **\n",
        "**fraction as \"numerator/denominator\".**"
      ],
      "metadata": {
        "id": "moodfr2us00A"
      }
    },
    {
      "cell_type": "code",
      "source": [
        "class Fraction:\n",
        "    def __init__(self, numerator, denominator):\n",
        "        self.numerator = numerator\n",
        "        self.denominator = denominator\n",
        "\n",
        "    def __str__(self):\n",
        "        return f\"{self.numerator}/{self.denominator}\"\n",
        "\n",
        "# Testing the class\n",
        "f1 = Fraction(3, 4)\n",
        "f2 = Fraction(5, 8)\n",
        "\n",
        "print(f1)\n",
        "print(f2)"
      ],
      "metadata": {
        "colab": {
          "base_uri": "https://localhost:8080/"
        },
        "id": "nfYZO-dvs8p5",
        "outputId": "6f0f1f91-c043-4d3c-9d8c-4656985775f3"
      },
      "execution_count": null,
      "outputs": [
        {
          "output_type": "stream",
          "name": "stdout",
          "text": [
            "3/4\n",
            "5/8\n"
          ]
        }
      ]
    },
    {
      "cell_type": "markdown",
      "source": [
        "**Q10.Demonstrate operator overloading by creating a class Vector and overriding** **the add method to add two **\n",
        "**vectors. **"
      ],
      "metadata": {
        "id": "dBeLZTM6tLpY"
      }
    },
    {
      "cell_type": "code",
      "source": [
        "class Vector:\n",
        "    def __init__(self, x, y):\n",
        "        self.x = x\n",
        "        self.y = y\n",
        "\n",
        "    def __add__(self, other):\n",
        "        if isinstance(other, Vector):\n",
        "            return Vector(self.x + other.x, self.y + other.y)\n",
        "        return NotImplemented\n",
        "\n",
        "    def __str__(self):\n",
        "        return f\"Vector({self.x}, {self.y})\"\n",
        "\n",
        "# Testing\n",
        "v1 = Vector(2, 3)\n",
        "v2 = Vector(4, 1)\n",
        "\n",
        "v3 = v1 + v2\n",
        "print(v3)\n"
      ],
      "metadata": {
        "colab": {
          "base_uri": "https://localhost:8080/"
        },
        "id": "QCNAy13ttV-A",
        "outputId": "883336c1-1a7c-4fcd-8111-f00ab30b8c88"
      },
      "execution_count": null,
      "outputs": [
        {
          "output_type": "stream",
          "name": "stdout",
          "text": [
            "Vector(6, 4)\n"
          ]
        }
      ]
    },
    {
      "cell_type": "markdown",
      "source": [
        "**Q11.Create a class Person with attributes name and age**. **Add a method greet() that prints \"Hello, my name is**\n",
        "**{name} and I am {age} years old.\"**"
      ],
      "metadata": {
        "id": "A67mFFxYtwZB"
      }
    },
    {
      "cell_type": "code",
      "source": [
        "class Person:\n",
        "    def __init__(self, name, age):\n",
        "        self.name = name\n",
        "        self.age = age\n",
        "\n",
        "    def greet(self):\n",
        "        print(f\"Hello, my name is {self.name} and I am {self.age} years old.\")\n",
        "\n",
        "# Testing\n",
        "p = Person(\"Alice\", 30)\n",
        "p.greet()\n"
      ],
      "metadata": {
        "colab": {
          "base_uri": "https://localhost:8080/"
        },
        "id": "ztSioSRYt2cw",
        "outputId": "4d248fcb-b765-4772-da51-cbc24958e037"
      },
      "execution_count": null,
      "outputs": [
        {
          "output_type": "stream",
          "name": "stdout",
          "text": [
            "Hello, my name is Alice and I am 30 years old.\n"
          ]
        }
      ]
    },
    {
      "cell_type": "markdown",
      "source": [
        "**Q12.Implement a class Student with attributes name and grades.** **Create a method average_grade() to compute**\n",
        "**the average of the grades.**"
      ],
      "metadata": {
        "id": "rqIS5mp_t_e4"
      }
    },
    {
      "cell_type": "code",
      "source": [
        "class Student:\n",
        "    def __init__(self, name, grades):\n",
        "        self.name = name\n",
        "        self.grades = grades  # Expecting a list of numbers\n",
        "\n",
        "    def average_grade(self):\n",
        "        if not self.grades:\n",
        "            return 0  # Avoid division by zero if grades list is empty\n",
        "        return sum(self.grades) / len(self.grades)\n",
        "\n",
        "# Testing\n",
        "student = Student(\"John\", [85, 90, 78, 92])\n",
        "print(f\"{student.name}'s average grade is: {student.average_grade():.2f}\")\n",
        "# Output: John's average grade is: 86.25\n"
      ],
      "metadata": {
        "colab": {
          "base_uri": "https://localhost:8080/"
        },
        "id": "c2-aE387uI87",
        "outputId": "a41a6482-afd5-40a6-a2f6-59a9de016823"
      },
      "execution_count": null,
      "outputs": [
        {
          "output_type": "stream",
          "name": "stdout",
          "text": [
            "John's average grade is: 86.25\n"
          ]
        }
      ]
    },
    {
      "cell_type": "markdown",
      "source": [
        "Q**13.Create a class Rectangle with methods set_dimensions()** **to set the** **dimensions and area()to calculate the**\n",
        "**area. **"
      ],
      "metadata": {
        "id": "Kl6Fu83YuP7E"
      }
    },
    {
      "cell_type": "code",
      "source": [
        "class Rectangle:\n",
        "    def __init__(self):\n",
        "        self.width = 0\n",
        "        self.height = 0\n",
        "\n",
        "    def set_dimensions(self, width, height):\n",
        "        self.width = width\n",
        "        self.height = height\n",
        "\n",
        "    def area(self):\n",
        "        return self.width * self.height\n",
        "\n",
        "# Testing\n",
        "rect = Rectangle()\n",
        "rect.set_dimensions(5, 10)\n",
        "print(f\"Area of rectangle: {rect.area()}\")\n"
      ],
      "metadata": {
        "colab": {
          "base_uri": "https://localhost:8080/"
        },
        "id": "JVzx6r1JuPhU",
        "outputId": "d355ba9d-eb8d-4e60-fc6d-f46f9d6a6e0f"
      },
      "execution_count": null,
      "outputs": [
        {
          "output_type": "stream",
          "name": "stdout",
          "text": [
            "Area of rectangle: 50\n"
          ]
        }
      ]
    },
    {
      "cell_type": "markdown",
      "source": [
        "**Q14.Create a class Employee with a method calculate_salary() that computes the** **salary based on hours worked **\n",
        "**and hourly rate. Create a derived class Manager that adds a bonus to the salary.**"
      ],
      "metadata": {
        "id": "cMvgczUJu8Kj"
      }
    },
    {
      "cell_type": "code",
      "source": [
        "class Employee:\n",
        "    def __init__(self, name, hours_worked, hourly_rate):\n",
        "        self.name = name\n",
        "        self.hours_worked = hours_worked\n",
        "        self.hourly_rate = hourly_rate\n",
        "\n",
        "    def calculate_salary(self):\n",
        "        return self.hours_worked * self.hourly_rate\n",
        "\n",
        "class Manager(Employee):\n",
        "    def __init__(self, name, hours_worked, hourly_rate, bonus):\n",
        "        super().__init__(name, hours_worked, hourly_rate)\n",
        "        self.bonus = bonus\n",
        "\n",
        "    def calculate_salary(self):\n",
        "        base_salary = super().calculate_salary()\n",
        "        return base_salary + self.bonus\n",
        "\n",
        "# Testing\n",
        "emp = Employee(\"Alice\", 40, 20)\n",
        "mgr = Manager(\"Bob\", 40, 25, 500)\n",
        "\n",
        "print(f\"{emp.name}'s Salary: ${emp.calculate_salary()}\")\n",
        "print(f\"{mgr.name}'s Salary: ${mgr.calculate_salary()}\")\n"
      ],
      "metadata": {
        "colab": {
          "base_uri": "https://localhost:8080/"
        },
        "id": "jruzy2htvGs8",
        "outputId": "6e1f7806-a9ad-4f73-9191-e61b548ef38a"
      },
      "execution_count": null,
      "outputs": [
        {
          "output_type": "stream",
          "name": "stdout",
          "text": [
            "Alice's Salary: $800\n",
            "Bob's Salary: $1500\n"
          ]
        }
      ]
    },
    {
      "cell_type": "markdown",
      "source": [
        "**Q15**. Create a class Product with attributes name, price, and quantity. Implement a method total_price() that\n",
        "calculates the total price of the product."
      ],
      "metadata": {
        "id": "QpmvSxqjvPXD"
      }
    },
    {
      "cell_type": "code",
      "source": [
        "class Product:\n",
        "    def __init__(self, name, price, quantity):\n",
        "        self.name = name\n",
        "        self.price = price\n",
        "        self.quantity = quantity\n",
        "\n",
        "    def total_price(self):\n",
        "        return self.price * self.quantity\n",
        "\n",
        "# Testing\n",
        "p = Product(\"Laptop\", 800, 3)\n",
        "print(f\"Total price for {p.quantity} {p.name}(s): ${p.total_price()}\")"
      ],
      "metadata": {
        "id": "wuXnWLYLIIMr",
        "colab": {
          "base_uri": "https://localhost:8080/"
        },
        "outputId": "6296c0c3-a902-42f8-e759-0d6db5dd05ba"
      },
      "execution_count": 1,
      "outputs": [
        {
          "output_type": "stream",
          "name": "stdout",
          "text": [
            "Total price for 3 Laptop(s): $2400\n"
          ]
        }
      ]
    },
    {
      "cell_type": "markdown",
      "source": [
        "Q16."
      ],
      "metadata": {
        "id": "1NdvL7VUIjGI"
      }
    },
    {
      "cell_type": "markdown",
      "source": [
        "**Q16**.Create a class Animal with an abstract method sound(). Create two derived classes Cow and Sheep that\n",
        "implement the sound() method."
      ],
      "metadata": {
        "id": "7qoINFBzJ5ie"
      }
    },
    {
      "cell_type": "code",
      "source": [
        "from abc import ABC, abstractmethod\n",
        "\n",
        "# Abstract base class\n",
        "class Animal(ABC):\n",
        "    @abstractmethod\n",
        "    def sound(self):\n",
        "        pass\n",
        "\n",
        "# Derived class: Cow\n",
        "class Cow(Animal):\n",
        "    def sound(self):\n",
        "        return \"Moo\"\n",
        "\n",
        "# Derived class: Sheep\n",
        "class Sheep(Animal):\n",
        "    def sound(self):\n",
        "        return \"Baa\"\n",
        "\n",
        "# Testing\n",
        "animals = [Cow(), Sheep()]\n",
        "\n",
        "for animal in animals:\n",
        "    print(f\"{animal.__class__.__name__} makes sound: {animal.sound()}\")\n"
      ],
      "metadata": {
        "colab": {
          "base_uri": "https://localhost:8080/"
        },
        "id": "pZPoL7OHKLkD",
        "outputId": "badc1cf8-6158-4f32-aa10-8b56e212db4b"
      },
      "execution_count": 2,
      "outputs": [
        {
          "output_type": "stream",
          "name": "stdout",
          "text": [
            "Cow makes sound: Moo\n",
            "Sheep makes sound: Baa\n"
          ]
        }
      ]
    },
    {
      "cell_type": "markdown",
      "source": [
        "**Q17.**Create a class Book with attributes title, author, and year_published. Add a method get_book_info() that\n",
        "returns a formatted string with the book's details."
      ],
      "metadata": {
        "id": "uNxtilP4Kd1a"
      }
    },
    {
      "cell_type": "code",
      "source": [
        "class Book:\n",
        "    def __init__(self, title, author, year_published):\n",
        "        self.title = title\n",
        "        self.author = author\n",
        "        self.year_published = year_published\n",
        "\n",
        "    def get_book_info(self):\n",
        "        return f\"'{self.title}' by {self.author}, published in {self.year_published}\"\n",
        "\n",
        "# Testing\n",
        "book = Book(\"To Kill a Mockingbird\", \"Harper Lee\", 1960)\n",
        "print(book.get_book_info())\n"
      ],
      "metadata": {
        "colab": {
          "base_uri": "https://localhost:8080/"
        },
        "id": "pq7VzoYjKWRv",
        "outputId": "8f5f6e0a-f5eb-4b42-9dad-00ec2b81872e"
      },
      "execution_count": 3,
      "outputs": [
        {
          "output_type": "stream",
          "name": "stdout",
          "text": [
            "'To Kill a Mockingbird' by Harper Lee, published in 1960\n"
          ]
        }
      ]
    },
    {
      "cell_type": "markdown",
      "source": [
        "**Q18.**Create a class House with attributes address and price. Create a derived class Mansion that adds an\n",
        "attribute number_of_rooms."
      ],
      "metadata": {
        "id": "6lCgwkroLCX-"
      }
    },
    {
      "cell_type": "code",
      "source": [
        "# Base class\n",
        "class House:\n",
        "    def __init__(self, address, price):\n",
        "        self.address = address\n",
        "        self.price = price\n",
        "\n",
        "    def display_info(self):\n",
        "        print(f\"Address: {self.address}\")\n",
        "        print(f\"Price: ${self.price}\")\n",
        "\n",
        "# Derived class\n",
        "class Mansion(House):\n",
        "    def __init__(self, address, price, number_of_rooms):\n",
        "        super().__init__(address, price)\n",
        "        self.number_of_rooms = number_of_rooms\n",
        "\n",
        "    def display_info(self):\n",
        "        super().display_info()\n",
        "        print(f\"Number of rooms: {self.number_of_rooms}\")\n",
        "\n",
        "# Testing\n",
        "m = Mansion(\"123 Luxury Lane\", 5000000, 15)\n",
        "m.display_info()\n"
      ],
      "metadata": {
        "colab": {
          "base_uri": "https://localhost:8080/"
        },
        "id": "mRc6PteVK-D7",
        "outputId": "23b0d31c-6707-4817-9690-b2dbf141dc36"
      },
      "execution_count": 4,
      "outputs": [
        {
          "output_type": "stream",
          "name": "stdout",
          "text": [
            "Address: 123 Luxury Lane\n",
            "Price: $5000000\n",
            "Number of rooms: 15\n"
          ]
        }
      ]
    },
    {
      "cell_type": "code",
      "source": [],
      "metadata": {
        "id": "4TgnYdm_LPb1"
      },
      "execution_count": null,
      "outputs": []
    }
  ]
}